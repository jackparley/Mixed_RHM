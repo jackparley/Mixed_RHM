{
 "cells": [
  {
   "cell_type": "markdown",
   "metadata": {},
   "source": [
    "## TEST MODELS INITIALISATION"
   ]
  },
  {
   "cell_type": "code",
   "execution_count": 1,
   "metadata": {},
   "outputs": [
    {
     "data": {
      "text/plain": [
       "<module 'models' from '/home/parley/Mixed_RHM/models/../models/__init__.py'>"
      ]
     },
     "execution_count": 1,
     "metadata": {},
     "output_type": "execute_result"
    }
   ],
   "source": [
    "import sys\n",
    "sys.path.append('../')\n",
    "\n",
    "import numpy as np\n",
    "import random\n",
    "import torch\n",
    "import torch.nn as nn\n",
    "import torch.nn.functional as F\n",
    "import torch.optim as optim\n",
    "import torch.utils.data as data_utils\n",
    "\n",
    "import datasets\n",
    "import models\n",
    "import importlib\n",
    "importlib.reload(datasets)\n",
    "importlib.reload(models)"
   ]
  },
  {
   "cell_type": "markdown",
   "metadata": {},
   "source": [
    "## IMPORT A HIERARCHICAL DATASET TO TEST THE MODELS"
   ]
  },
  {
   "cell_type": "code",
   "execution_count": 2,
   "metadata": {},
   "outputs": [
    {
     "name": "stdout",
     "output_type": "stream",
     "text": [
      "sampling seed: 99999999\n",
      "input: tensor of size torch.Size([32, 8, 13])\n",
      "outputs: tensor of size torch.Size([32])\n"
     ]
    }
   ],
   "source": [
    "random.seed()\n",
    "seed_rules = 12345678   # seed of the random hierarchy model\n",
    "seed_sample = 99999999  # random.randrange(10000000,99999999)\n",
    "print('sampling seed:', seed_sample)\n",
    "\n",
    "train_size=32\n",
    "test_size=0\n",
    "input_format='onehot'\n",
    "\n",
    "\n",
    "\n",
    "\n",
    "dataset=datasets.MixedRandomHierarchyModel(\n",
    "    num_features=v,     # vocabulary size\n",
    "    num_classes=n,      # number of classes\n",
    "    fraction_rules=f,     # number of synonymic low-level representations (multiplicity)\n",
    "    rule_sequence_type=1,\n",
    "    s_2=2,\n",
    "    s_3=3,       # size of the low-level representations\n",
    "    num_layers=L,       # number of levels in the hierarchy\n",
    "    seed_rules=0,\n",
    "    seed_sample=1,\n",
    "    train_size=train_size,\n",
    "    test_size=0,\n",
    "    input_format='onehot',\n",
    "    whitening=1   \n",
    "    )\n",
    "\n",
    "x = dataset.features\n",
    "y = dataset.labels\n",
    "print('input: tensor of size', x.size())\n",
    "print('outputs: tensor of size', y.size())"
   ]
  },
  {
   "cell_type": "code",
   "execution_count": 4,
   "metadata": {},
   "outputs": [
    {
     "name": "stdout",
     "output_type": "stream",
     "text": [
      "hCNN_mixed(\n",
      "  (hidden): Sequential(\n",
      "    (0): Sequential(\n",
      "      (0): MyConv1d_mixed_start_3()\n",
      "      (1): ReLU()\n",
      "    )\n",
      "    (1): Sequential(\n",
      "      (0): MyConv1d_mixed_start_3()\n",
      "      (1): ReLU()\n",
      "    )\n",
      "    (2): MyLinear()\n",
      "    (3): ReLU()\n",
      "  )\n",
      ")\n",
      "1-th layer weights, size: torch.Size([256, 8, 2])\n",
      "2-th layer weights, size: torch.Size([256, 256, 2])\n",
      "readout weights, size: torch.Size([256, 8])\n",
      "1-th hidden rep. size: torch.Size([32, 256, 5])\n",
      "2-th hidden rep. size: torch.Size([32, 256, 2])\n"
     ]
    }
   ],
   "source": [
    "depth = 3\n",
    "width = 256\n",
    "rule_sequence_type = 1\n",
    "\n",
    "model_cnn = models.hCNN_mixed(rule_sequence_type,v,width,n,depth,bias=True)\n",
    "\n",
    "print(model_cnn)\n",
    "\n",
    "for i in range(depth-1):\n",
    "    print(f'{i+1}-th layer weights, size:', model_cnn.hidden[i][0].filter_2.size())\n",
    "print(f'readout weights, size:', model_cnn.readout.size())\n",
    "\n",
    "model_y = x\n",
    "for i in range(depth-1):\n",
    "    model_y = model_cnn.hidden[i][0](model_y).relu()\n",
    "    print(f'{i+1}-th hidden rep. size:', model_y.size())\n",
    "#model_cnn.hidden[0][0](x)\n",
    "# print(model_y.size())"
   ]
  },
  {
   "cell_type": "code",
   "execution_count": 6,
   "metadata": {},
   "outputs": [
    {
     "data": {
      "text/plain": [
       "torch.Size([32, 8])"
      ]
     },
     "execution_count": 6,
     "metadata": {},
     "output_type": "execute_result"
    }
   ],
   "source": [
    "model_cnn(x).shape"
   ]
  },
  {
   "cell_type": "code",
   "execution_count": null,
   "metadata": {},
   "outputs": [],
   "source": []
  }
 ],
 "metadata": {
  "kernelspec": {
   "display_name": "nlp2",
   "language": "python",
   "name": "python3"
  },
  "language_info": {
   "codemirror_mode": {
    "name": "ipython",
    "version": 3
   },
   "file_extension": ".py",
   "mimetype": "text/x-python",
   "name": "python",
   "nbconvert_exporter": "python",
   "pygments_lexer": "ipython3",
   "version": "3.12.7"
  }
 },
 "nbformat": 4,
 "nbformat_minor": 2
}
